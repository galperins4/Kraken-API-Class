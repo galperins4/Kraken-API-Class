{
 "cells": [
  {
   "cell_type": "code",
   "execution_count": 63,
   "metadata": {
    "collapsed": false
   },
   "outputs": [],
   "source": [
    "import requests\n",
    "import hashlib\n",
    "import hmac\n",
    "import base64\n",
    "\n",
    "class Kraken(object):\n",
    "      \n",
    "    def __init__(self,key = '',secret = ''):\n",
    "        self.key = key\n",
    "        self.secret = secret\n",
    "        self.url = 'https://api.kraken.com/'\n",
    "        self.apiv = '0'\n",
    "        self.pp = ('public','private')\n",
    "        self.method = {'gst':'Time',\n",
    "                       'gai':'Assets',\n",
    "                       'gtap':'AssetPairs',\n",
    "                       'gti':'Ticker?pair=',\n",
    "                       'god':'OHLC',\n",
    "                       'gob':'Depth?pair=',\n",
    "                       'grt':'Trades',\n",
    "                       'grsd':'Spread',\n",
    "                       'gab':'Balance',\n",
    "                       'gtb':'TradeBalance',\n",
    "                       'goo':'OpenOrders',\n",
    "                       'gco':'ClosedOrders',\n",
    "                       'qoi':'QueryOrders',\n",
    "                       'gth':'TradesHistory',\n",
    "                       'gti2':'QueryTrades',\n",
    "                       'gop':'OpenPositions',\n",
    "                       'gli':'Ledgers',\n",
    "                       'ql':'QueryLedgers',\n",
    "                       'gtv':'TradeVolume',\n",
    "                       'aso':'AddOrder',\n",
    "                       'coo':'CancelOrder'}\n",
    "        \n",
    "    #define public methods\n",
    "    def get_server_time(self):\n",
    "        return requests.get(self.url+self.apiv+'/'+self.pp[0]+'/'+self.method['gst'])\n",
    "    \n",
    "    def get_asset_info(self):\n",
    "        return requests.get(self.url+self.apiv+'/'+self.pp[0]+'/'+self.method['gai'])\n",
    "    \n",
    "    def get_tradable_asset_pairs(self):\n",
    "         return requests.get(self.url+self.apiv+'/'+self.pp[0]+'/'+self.method['gtap'])\n",
    "    \n",
    "    def get_ticker_information(self,pair):\n",
    "        self.pair = pair\n",
    "        ticker = ','.join(self.pair[:])\n",
    "        return requests.get(self.url+self.apiv+'/'+self.pp[0]+'/'+self.method['gti']+ticker)\n",
    "    \n",
    "    def get_OHLC_data(self):\n",
    "        pass\n",
    "    \n",
    "    def get_order_book(self,pair):\n",
    "    #Need to figure out how to get count in url to work\n",
    "        self.pair = pair\n",
    "        return requests.get(self.url+self.apiv+'/'+self.pp[0]+'/'+self.method['goo']+pair)\n",
    "    \n",
    "    def get_recent_trades(self):\n",
    "        pass\n",
    "    \n",
    "    def get_recent_spread_data(self):\n",
    "        pass\n",
    "    \n",
    "    #define private methods\n",
    "    def get_account_balance(self):\n",
    "        pass\n",
    "    \n",
    "    def get_trade_balance(self):\n",
    "        pass\n",
    "    \n",
    "    def get_open_orders(self):\n",
    "        pass\n",
    "    \n",
    "    def get_closed_orders(self):\n",
    "        pass\n",
    "    \n",
    "    def query_orders_info(self):\n",
    "        pass\n",
    "    \n",
    "    def get_trades_history(self):\n",
    "        pass\n",
    "    \n",
    "    def query_trades_info(self):\n",
    "        pass\n",
    "    \n",
    "    def get_open_positions(self):\n",
    "        pass\n",
    "    \n",
    "    def get_ledgers_info(self):\n",
    "        pass\n",
    "    \n",
    "    def query_ledgers(self):\n",
    "        pass\n",
    "    \n",
    "    def get_trade_volume(self):\n",
    "        pass\n",
    "    \n",
    "    def add_standard_order(self):\n",
    "        pass\n",
    "    \n",
    "    def cancel_open_order(self):\n",
    "        pass\n",
    "    \n",
    "    \n",
    "    \n",
    "    "
   ]
  },
  {
   "cell_type": "code",
   "execution_count": 64,
   "metadata": {
    "collapsed": false
   },
   "outputs": [],
   "source": [
    "k = Kraken()"
   ]
  },
  {
   "cell_type": "code",
   "execution_count": null,
   "metadata": {
    "collapsed": false
   },
   "outputs": [],
   "source": []
  },
  {
   "cell_type": "code",
   "execution_count": null,
   "metadata": {
    "collapsed": false
   },
   "outputs": [],
   "source": []
  },
  {
   "cell_type": "code",
   "execution_count": 56,
   "metadata": {
    "collapsed": true
   },
   "outputs": [],
   "source": []
  },
  {
   "cell_type": "code",
   "execution_count": 57,
   "metadata": {
    "collapsed": true
   },
   "outputs": [],
   "source": []
  },
  {
   "cell_type": "code",
   "execution_count": null,
   "metadata": {
    "collapsed": false
   },
   "outputs": [],
   "source": []
  }
 ],
 "metadata": {
  "kernelspec": {
   "display_name": "Python [Root]",
   "language": "python",
   "name": "Python [Root]"
  },
  "language_info": {
   "codemirror_mode": {
    "name": "ipython",
    "version": 3
   },
   "file_extension": ".py",
   "mimetype": "text/x-python",
   "name": "python",
   "nbconvert_exporter": "python",
   "pygments_lexer": "ipython3",
   "version": "3.5.2"
  }
 },
 "nbformat": 4,
 "nbformat_minor": 0
}
