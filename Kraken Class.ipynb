{
 "cells": [
  {
   "cell_type": "code",
   "execution_count": 80,
   "metadata": {
    "collapsed": false
   },
   "outputs": [],
   "source": [
    "import requests\n",
    "import hashlib\n",
    "import hmac\n",
    "import base64\n",
    "import urllib.parse\n",
    "import time\n",
    "\n",
    "class Kraken(object):\n",
    "      \n",
    "    def __init__(self,key = '',secret = ''):\n",
    "        self.key = key\n",
    "        self.secret = secret\n",
    "        self.url = 'https://api.kraken.com'\n",
    "        self.apiv = '0'\n",
    "        self.pp = ('public','private')\n",
    "        self.method = {'gst':'Time',\n",
    "                       'gai':'Assets',\n",
    "                       'gtap':'AssetPairs',\n",
    "                       'gti':'Ticker',\n",
    "                       'god':'OHLC',\n",
    "                       'gob':'Depth',\n",
    "                       'grt':'Trades',\n",
    "                       'grsd':'Spread',\n",
    "                       'gab':'Balance',\n",
    "                       'gtb':'TradeBalance',\n",
    "                       'goo':'OpenOrders',\n",
    "                       'gco':'ClosedOrders',\n",
    "                       'qoi':'QueryOrders',\n",
    "                       'gth':'TradesHistory',\n",
    "                       'gti2':'QueryTrades',\n",
    "                       'gop':'OpenPositions',\n",
    "                       'gli':'Ledgers',\n",
    "                       'ql':'QueryLedgers',\n",
    "                       'gtv':'TradeVolume',\n",
    "                       'aso':'AddOrder',\n",
    "                       'coo':'CancelOrder'}\n",
    "        \n",
    "    def get_keys(self,path):\n",
    "        f = open(path,\"r\")\n",
    "        self.key = f.readline().strip()\n",
    "        self.secret = f.readline().strip()\n",
    "    \n",
    "    #define public methods\n",
    "    def get_server_time(self):\n",
    "        return requests.get(self.url+'/'+self.apiv+'/'+self.pp[0]+'/'+self.method['gst'])\n",
    "    \n",
    "    \n",
    "    def get_asset_info(self, info=None, aclass=None, asset=None):\n",
    "        if asset == None:\n",
    "            payload = {'info': info, 'aclass': aclass, 'asset': asset}\n",
    "        else:\n",
    "            payload = {'info': info, 'aclass': aclass, 'asset': ','.join(asset[:])}\n",
    "        return requests.get(self.url+'/'+self.apiv+'/'+self.pp[0]+'/'+self.method['gai'], params=payload)\n",
    "        \n",
    "\n",
    "    def get_tradable_asset_pairs(self, info=None, pair=None):\n",
    "        if pair == None:\n",
    "            payload = {'info': info, 'pair': pair}\n",
    "        else:\n",
    "            payload = {'info': info, 'pair': ','.join(pair[:])}\n",
    "        return requests.get(self.url+'/'+self.apiv+'/'+self.pp[0]+'/'+self.method['gtap'], params=payload)\n",
    "    \n",
    "    \n",
    "    def get_ticker_information(self, pair):\n",
    "        payload = {'pair': ','.join(pair[:])}\n",
    "        return requests.get(self.url+'/'+self.apiv+'/'+self.pp[0]+'/'+self.method['gti'], params=payload)\n",
    "    \n",
    "    \n",
    "    def get_OHLC_data(self, pair, interval=None, since=None):\n",
    "        payload = {'pair': pair,'interval': interval, 'since': since}\n",
    "        return requests.get(self.url+'/'+self.apiv+'/'+self.pp[0]+'/'+self.method['god'], params=payload)\n",
    "    \n",
    "    \n",
    "    def get_order_book(self, pair, count=None):\n",
    "        payload = {'pair': pair,'count':count}\n",
    "        return requests.get(self.url+'/'+self.apiv+'/'+self.pp[0]+'/'+self.method['gob'], params=payload)\n",
    "    \n",
    "    #WIP\n",
    "    def get_recent_trades(self, pair, since=None):\n",
    "        payload = {'pair': pair, 'since': since}\n",
    "        return requests.get(self.url+'/'+self.apiv+'/'+self.pp[0]+'/'+self.method['grt'], params=payload)\n",
    "    \n",
    "    \n",
    "    #WIP\n",
    "    def get_recent_spread_data(self, pair, since=None):\n",
    "        payload = {'pair': pair, 'since': since}\n",
    "        return requests.get(self.url+'/'+self.apiv+'/'+self.pp[0]+'/'+self.method['grsd'], params=payload)\n",
    "    \n",
    "    \n",
    "    #define private methods\n",
    "    '''\n",
    "        HTTP Header\n",
    "            API-Key = API key\n",
    "            API-Sign = Message signature using HMAC-SHA512 of (URI path + SHA256(nonce + POST data)) and base64 decoded secret API key\n",
    "        POST data:\n",
    "            nonce = always increasing unsigned 64 bit integer\n",
    "            otp = two-factor password (if two-factor enabled, otherwise not required)\n",
    "    '''\n",
    "    \n",
    "    def get_account_balance(self):\n",
    "        \n",
    "        # get input, nonce and postdata\n",
    "        req['nonce'] = int(1000*time.time())\n",
    "        postdata = urllib.parse.urlencode(req)\n",
    "        \n",
    "        #encode nonce+POST data\n",
    "        encoded = (str(req['nonce']) + postdata).encode()\n",
    "\n",
    "        # message = URI path + SHA256(nonce + POST data)\n",
    "        urlpath = '/'+self.apiv+'/'+self.pp[1]+'/'+self.method['gab']\n",
    "        message = urlpath.encode() + hashlib.sha256(encoded).digest()\n",
    "\n",
    "        # get signature and signature digest\n",
    "        signature = hmac.new(base64.b64decode(self.secret), message, hashlib.sha512)\n",
    "        sigdigest = base64.b64encode(signature.digest())\n",
    "\n",
    "        #define headers data\n",
    "        headers = {'API-Key': self.key,'API-Sign': sigdigest.decode()}\n",
    "        \n",
    "        return requests.post(self.url+'/'+self.apiv+'/'+self.pp[1]+'/'+self.method['gab'], data=req, headers=headers)\n",
    "    \n",
    "    #WIP\n",
    "    def get_trade_balance(self):\n",
    "        pass\n",
    "    \n",
    "    #WIP\n",
    "    def get_open_orders(self):\n",
    "        pass\n",
    "    \n",
    "    #WIP\n",
    "    def get_closed_orders(self):\n",
    "        pass\n",
    "    \n",
    "    #WIP\n",
    "    def query_orders_info(self):\n",
    "        pass\n",
    "    \n",
    "    #WIP\n",
    "    def get_trades_history(self):\n",
    "        pass\n",
    "    \n",
    "    #WIP\n",
    "    def query_trades_info(self):\n",
    "        pass\n",
    "    \n",
    "    #WIP\n",
    "    def get_open_positions(self):\n",
    "        pass\n",
    "    \n",
    "    #WIP\n",
    "    def get_ledgers_info(self):\n",
    "        pass\n",
    "    \n",
    "    #WIP\n",
    "    def query_ledgers(self, id):\n",
    "        #NOTE: Can only query a max on 20\n",
    "        \n",
    "        # get input, nonce and postdata\n",
    "        req = {'id': id, 'nonce': int(1000*time.time())}\n",
    "        postdata = urllib.parse.urlencode(req)\n",
    "        \n",
    "        #encode nonce+POST data\n",
    "        encoded = (str(req['nonce']) + postdata).encode()\n",
    "\n",
    "        # message = URI path + SHA256(nonce + POST data)\n",
    "        urlpath = '/'+self.apiv+'/'+self.pp[1]+'/'+self.method['ql']\n",
    "        message = urlpath.encode() + hashlib.sha256(encoded).digest()\n",
    "\n",
    "        # get signature and signature digest\n",
    "        signature = hmac.new(base64.b64decode(self.secret), message, hashlib.sha512)\n",
    "        sigdigest = base64.b64encode(signature.digest())\n",
    "\n",
    "        #define headers data\n",
    "        headers = {'API-Key': self.key,'API-Sign': sigdigest.decode()}\n",
    "        \n",
    "        return requests.post(self.url+'/'+self.apiv+'/'+self.pp[1]+'/'+self.method['ql'], data=req, headers=headers)\n",
    "    \n",
    "    #WIP\n",
    "    def get_trade_volume(self):\n",
    "        pass\n",
    "    \n",
    "    #WIP\n",
    "    def add_standard_order(self):\n",
    "        pass\n",
    "    \n",
    "    #WIP\n",
    "    def cancel_open_order(self):\n",
    "        pass\n",
    "    \n",
    "    \n",
    "    \n",
    "    "
   ]
  },
  {
   "cell_type": "code",
   "execution_count": 81,
   "metadata": {
    "collapsed": true
   },
   "outputs": [],
   "source": [
    "k = Kraken()"
   ]
  },
  {
   "cell_type": "code",
   "execution_count": 82,
   "metadata": {
    "collapsed": false
   },
   "outputs": [],
   "source": [
    "k.get_keys('C:\\\\test.txt')"
   ]
  },
  {
   "cell_type": "code",
   "execution_count": 83,
   "metadata": {
    "collapsed": false
   },
   "outputs": [],
   "source": [
    "r = k.query_ledgers('L3IFP6-JT2SB-3DUJUR')"
   ]
  },
  {
   "cell_type": "code",
   "execution_count": 78,
   "metadata": {
    "collapsed": false
   },
   "outputs": [
    {
     "data": {
      "text/plain": [
       "{'L3IFP6-JT2SB-3DUJUR': {'aclass': 'currency',\n",
       "  'amount': '22000.00000000',\n",
       "  'asset': 'XXDG',\n",
       "  'balance': '22000.00000000',\n",
       "  'fee': '0.00000000',\n",
       "  'refid': 'QSBFFDR-IRX5ML-LIQD2F',\n",
       "  'time': 1470489605.0162,\n",
       "  'type': 'deposit'}}"
      ]
     },
     "execution_count": 78,
     "metadata": {},
     "output_type": "execute_result"
    }
   ],
   "source": [
    "r.json()['result']"
   ]
  },
  {
   "cell_type": "code",
   "execution_count": 79,
   "metadata": {
    "collapsed": false
   },
   "outputs": [
    {
     "data": {
      "text/plain": [
       "'\\nXDAOXETH,XDAOXXBT  example pairs\\nXXDG  example asset\\nL3IFP6-JT2SB-3DUJUR example ledger entry\\n'"
      ]
     },
     "execution_count": 79,
     "metadata": {},
     "output_type": "execute_result"
    }
   ],
   "source": [
    "'''\n",
    "XDAOXETH,XDAOXXBT  example pairs\n",
    "XXDG  example asset\n",
    "L3IFP6-JT2SB-3DUJUR example ledger entry\n",
    "'''"
   ]
  },
  {
   "cell_type": "code",
   "execution_count": null,
   "metadata": {
    "collapsed": false
   },
   "outputs": [],
   "source": []
  },
  {
   "cell_type": "code",
   "execution_count": null,
   "metadata": {
    "collapsed": false
   },
   "outputs": [],
   "source": []
  },
  {
   "cell_type": "code",
   "execution_count": null,
   "metadata": {
    "collapsed": false
   },
   "outputs": [],
   "source": []
  },
  {
   "cell_type": "code",
   "execution_count": null,
   "metadata": {
    "collapsed": false
   },
   "outputs": [],
   "source": []
  },
  {
   "cell_type": "code",
   "execution_count": null,
   "metadata": {
    "collapsed": true
   },
   "outputs": [],
   "source": []
  }
 ],
 "metadata": {
  "anaconda-cloud": {},
  "kernelspec": {
   "display_name": "Python [Root]",
   "language": "python",
   "name": "Python [Root]"
  },
  "language_info": {
   "codemirror_mode": {
    "name": "ipython",
    "version": 3
   },
   "file_extension": ".py",
   "mimetype": "text/x-python",
   "name": "python",
   "nbconvert_exporter": "python",
   "pygments_lexer": "ipython3",
   "version": "3.5.2"
  }
 },
 "nbformat": 4,
 "nbformat_minor": 0
}
