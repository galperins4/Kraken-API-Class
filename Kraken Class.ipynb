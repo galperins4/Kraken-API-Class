{
 "cells": [
  {
   "cell_type": "code",
   "execution_count": 53,
   "metadata": {
    "collapsed": false
   },
   "outputs": [],
   "source": [
    "import requests\n",
    "import hashlib\n",
    "import hmac\n",
    "import base64\n",
    "\n",
    "class Kraken(object):\n",
    "      \n",
    "    def __init__(self,key = '',secret = ''):\n",
    "        self.key = key\n",
    "        self.secret = secret\n",
    "        self.url = 'https://api.kraken.com/'\n",
    "        self.apiv = '0'\n",
    "        self.pp = ('public','private')\n",
    "        self.method = {'gst':'Time',\n",
    "                       'gai':'Assets',\n",
    "                       'gtap':'AssetPairs',\n",
    "                       'gti':'Ticker',\n",
    "                       'god':'OHLC',\n",
    "                       'gob':'Depth',\n",
    "                       'grt':'Trades',\n",
    "                       'grsd':'Spread',\n",
    "                       'gab':'Balance',\n",
    "                       'gtb':'TradeBalance',\n",
    "                       'goo':'OpenOrders',\n",
    "                       'gco':'ClosedOrders',\n",
    "                       'qoi':'QueryOrders',\n",
    "                       'gth':'TradesHistory',\n",
    "                       'gti2':'QueryTrades',\n",
    "                       'gop':'OpenPositions',\n",
    "                       'gli':'Ledgers',\n",
    "                       'ql':'QueryLedgers',\n",
    "                       'gtv':'TradeVolume',\n",
    "                       'aso':'AddOrder',\n",
    "                       'coo':'CancelOrder'}\n",
    "        self.opt = {'pair':'pair=',\n",
    "                    'info':'info=',\n",
    "                    'aclass':'aclass=',\n",
    "                    'asset':'asset=',\n",
    "                    'interval':'interval=',\n",
    "                    'since':'since=',\n",
    "                    'count':'count=',\n",
    "                    'trades':'trades=',\n",
    "                    'userref':'userref='}\n",
    "        \n",
    "    #define public methods\n",
    "    def get_server_time(self):\n",
    "        return requests.get(self.url+self.apiv+'/'+self.pp[0]+'/'+self.method['gst'])\n",
    "    \n",
    "    #WIP\n",
    "    def get_asset_info(self, info=None, aclass=None, asset=None):\n",
    "        if info==None and aclass==None and asset==None:\n",
    "            return requests.get(self.url+self.apiv+'/'+self.pp[0]+'/'+self.method['gai'])\n",
    "        else:\n",
    "            pass\n",
    "\n",
    "    def get_tradable_asset_pairs(self, info=None, pair=None):\n",
    "        if info==None and pair==None:\n",
    "            return requests.get(self.url+self.apiv+'/'+self.pp[0]+'/'+self.method['gtap'])\n",
    "        elif info!=None and pair!=None:\n",
    "            pairs = ','.join(pair[:])\n",
    "            return requests.get(self.url+self.apiv+'/'+self.pp[0]+'/'+self.method['gtap']+'?'\n",
    "                                +self.opt['pair']+pairs+'&'+self.opt['info']+info)\n",
    "        else:\n",
    "            if info!=None:\n",
    "                return requests.get(self.url+self.apiv+'/'+self.pp[0]+'/'+self.method['gtap']+'?'+self.opt['info']+info)\n",
    "            else:\n",
    "                pairs = ','.join(pair[:])\n",
    "                return requests.get(self.url+self.apiv+'/'+self.pp[0]+'/'+self.method['gtap']+'?'+self.opt['pair']+pairs)\n",
    "    \n",
    "    def get_ticker_information(self,pair):\n",
    "        ticker = ','.join(pair[:])\n",
    "        return requests.get(self.url+self.apiv+'/'+self.pp[0]+'/'+self.method['gti']+ticker)\n",
    "    \n",
    "    #WIP\n",
    "    def get_OHLC_data(self, pair, interval=None, since=None):\n",
    "        pass\n",
    "    \n",
    "    \n",
    "    def get_order_book(self,pair, count=None):\n",
    "        if count==None:\n",
    "            return requests.get(self.url+self.apiv+'/'+self.pp[0]+'/'+self.method['gob']+'?'+self.opt['pair']+pair)\n",
    "        else:\n",
    "            return requests.get(self.url+self.apiv+'/'+self.pp[0]+'/'+self.method['gob']+'?'+self.opt['pair']+pair\n",
    "                                +'&'+self.opt['count']+str(count))\n",
    "    \n",
    "    #WIP\n",
    "    def get_recent_trades(self):\n",
    "        pass\n",
    "    \n",
    "    #WIP\n",
    "    def get_recent_spread_data(self):\n",
    "        pass\n",
    "    \n",
    "    \n",
    "    \n",
    "    #define private methods\n",
    "    #WIP\n",
    "    def get_account_balance(self):\n",
    "        pass\n",
    "    \n",
    "    #WIP\n",
    "    def get_trade_balance(self):\n",
    "        pass\n",
    "    \n",
    "    #WIP\n",
    "    def get_open_orders(self):\n",
    "        pass\n",
    "    \n",
    "    #WIP\n",
    "    def get_closed_orders(self):\n",
    "        pass\n",
    "    \n",
    "    #WIP\n",
    "    def query_orders_info(self):\n",
    "        pass\n",
    "    \n",
    "    #WIP\n",
    "    def get_trades_history(self):\n",
    "        pass\n",
    "    \n",
    "    #WIP\n",
    "    def query_trades_info(self):\n",
    "        pass\n",
    "    \n",
    "    #WIP\n",
    "    def get_open_positions(self):\n",
    "        pass\n",
    "    \n",
    "    #WIP\n",
    "    def get_ledgers_info(self):\n",
    "        pass\n",
    "    \n",
    "    #WIP\n",
    "    def query_ledgers(self):\n",
    "        pass\n",
    "    \n",
    "    #WIP\n",
    "    def get_trade_volume(self):\n",
    "        pass\n",
    "    \n",
    "    #WIP\n",
    "    def add_standard_order(self):\n",
    "        pass\n",
    "    \n",
    "    #WIP\n",
    "    def cancel_open_order(self):\n",
    "        pass\n",
    "    \n",
    "    \n",
    "    \n",
    "    "
   ]
  },
  {
   "cell_type": "code",
   "execution_count": 54,
   "metadata": {
    "collapsed": true
   },
   "outputs": [],
   "source": [
    "k = Kraken()"
   ]
  },
  {
   "cell_type": "code",
   "execution_count": 59,
   "metadata": {
    "collapsed": false
   },
   "outputs": [
    {
     "name": "stdout",
     "output_type": "stream",
     "text": [
      "{'result': {'XDAOXETH': {'bids': [['0.00999000', '176274.491', 1470453847], ['0.00998000', '191066.947', 1470453216], ['0.00997000', '353386.200', 1470452547], ['0.00996000', '108900.181', 1469912056], ['0.00985000', '385.660', 1470451266], ['0.00980000', '7063.009', 1470453881], ['0.00950000', '50.352', 1470443941], ['0.00941000', '50.832', 1470443941], ['0.00928000', '51.551', 1470443942]], 'asks': [['0.01005000', '23538.284', 1470449597], ['0.01007000', '122064.381', 1470432753], ['0.01013000', '2500.339', 1470453829], ['0.01014000', '23000.000', 1470376126], ['0.01018000', '290218.846', 1470409605], ['0.01025000', '3000.000', 1470436264], ['0.01029000', '21408.828', 1470404718], ['0.01060000', '11342.111', 1470453660], ['0.01061000', '14.272', 1470441541]]}}, 'error': []}\n"
     ]
    }
   ],
   "source": [
    "test = k.get_order_book('XDAOXETH',count=9)\n",
    "print(test.json())"
   ]
  },
  {
   "cell_type": "code",
   "execution_count": 11,
   "metadata": {
    "collapsed": false
   },
   "outputs": [
    {
     "ename": "NameError",
     "evalue": "name 'XXDG' is not defined",
     "output_type": "error",
     "traceback": [
      "\u001b[1;31m---------------------------------------------------------------------------\u001b[0m",
      "\u001b[1;31mNameError\u001b[0m                                 Traceback (most recent call last)",
      "\u001b[1;32m<ipython-input-11-33de108d9d72>\u001b[0m in \u001b[0;36m<module>\u001b[1;34m()\u001b[0m\n\u001b[1;32m----> 1\u001b[1;33m \u001b[0mXXDG\u001b[0m\u001b[1;33m\u001b[0m\u001b[0m\n\u001b[0m\u001b[0;32m      2\u001b[0m \u001b[0mZCAD\u001b[0m\u001b[1;33m\u001b[0m\u001b[0m\n",
      "\u001b[1;31mNameError\u001b[0m: name 'XXDG' is not defined"
     ]
    }
   ],
   "source": [
    "XXDG\n",
    "ZCAD"
   ]
  },
  {
   "cell_type": "code",
   "execution_count": 46,
   "metadata": {
    "collapsed": false
   },
   "outputs": [
    {
     "name": "stdout",
     "output_type": "stream",
     "text": [
      "t,e,s,t\n"
     ]
    }
   ],
   "source": [
    "XDAOXETH"
   ]
  }
 ],
 "metadata": {
  "anaconda-cloud": {},
  "kernelspec": {
   "display_name": "Python [Root]",
   "language": "python",
   "name": "Python [Root]"
  },
  "language_info": {
   "codemirror_mode": {
    "name": "ipython",
    "version": 3
   },
   "file_extension": ".py",
   "mimetype": "text/x-python",
   "name": "python",
   "nbconvert_exporter": "python",
   "pygments_lexer": "ipython3",
   "version": "3.5.2"
  }
 },
 "nbformat": 4,
 "nbformat_minor": 0
}
